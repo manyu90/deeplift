{
 "cells": [
  {
   "cell_type": "code",
   "execution_count": null,
   "metadata": {
    "collapsed": false
   },
   "outputs": [],
   "source": [
    "from __future__ import print_function\n",
    "import numpy as np\n",
    "import deeplift\n",
    "import deeplift.conversion.keras_conversion as kc\n",
    "\n",
    "keras_model_weights=\"/srv/scratch/manyu/train/K562/ZBTB33_Seq_Meth_newModel/logdir_simple/model.weights.h5\"\n",
    "keras_model_json=\"/srv/scratch/manyu/train/K562/ZBTB33_Seq_Meth_newModel/logdir_simple/model.arch.json\"\n",
    "keras_model = kc.load_keras_model(weights=keras_model_weights,\n",
    "                                  json=keras_model_json)\n",
    "\n",
    "\n",
    "from deeplift.blobs import NonlinearMxtsMode\n",
    "from collections import OrderedDict\n",
    "\n"
   ]
  },
  {
   "cell_type": "code",
   "execution_count": null,
   "metadata": {
    "collapsed": true
   },
   "outputs": [],
   "source": [
    "method_to_model = OrderedDict()\n",
    "for method_name, nonlinear_mxts_mode in [\n",
    "    #The genomics default = rescale on conv layers, revealcance on fully-connected\n",
    "    ('rescale_conv_revealcancel_fc', NonlinearMxtsMode.DeepLIFT_GenomicsDefault),\n",
    "    ('rescale_all_layers', NonlinearMxtsMode.Rescale),\n",
    "    ('revealcancel_all_layers', NonlinearMxtsMode.RevealCancel),\n",
    "    ('grad_times_inp', NonlinearMxtsMode.Gradient),\n",
    "    ('guided_backprop', NonlinearMxtsMode.GuidedBackprop)]:\n",
    "    method_to_model[method_name] = kc.convert_functional_model(\n",
    "        model=keras_model,\n",
    "        nonlinear_mxts_mode=nonlinear_mxts_mod"
   ]
  }
 ],
 "metadata": {
  "kernelspec": {
   "display_name": "Python [conda env:dragonn]",
   "language": "python",
   "name": "conda-env-dragonn-py"
  },
  "language_info": {
   "codemirror_mode": {
    "name": "ipython",
    "version": 2
   },
   "file_extension": ".py",
   "mimetype": "text/x-python",
   "name": "python",
   "nbconvert_exporter": "python",
   "pygments_lexer": "ipython2",
   "version": "2.7.12"
  }
 },
 "nbformat": 4,
 "nbformat_minor": 1
}
