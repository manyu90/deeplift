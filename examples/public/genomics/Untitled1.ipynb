{
 "cells": [
  {
   "cell_type": "code",
   "execution_count": 1,
   "metadata": {
    "collapsed": false
   },
   "outputs": [
    {
     "name": "stderr",
     "output_type": "stream",
     "text": [
      "Using TensorFlow backend.\n"
     ]
    }
   ],
   "source": [
    "from __future__ import print_function\n",
    "import numpy as np\n",
    "import deeplift\n",
    "import deeplift.conversion.keras_conversion as kc"
   ]
  },
  {
   "cell_type": "code",
   "execution_count": 2,
   "metadata": {
    "collapsed": true
   },
   "outputs": [],
   "source": [
    "keras_model_weights=\"/srv/scratch/manyu/train/K562/ZBTB33_Seq_Meth_newModel/logdir_simple/model.weights.h5\"\n",
    "keras_model_json=\"/srv/scratch/manyu/train/K562/ZBTB33_Seq_Meth_newModel/logdir_simple/model.arch.json\"\n",
    "keras_model = kc.load_keras_model(weights=keras_model_weights,\n",
    "                                  json=keras_model_json)\n"
   ]
  },
  {
   "cell_type": "code",
   "execution_count": 3,
   "metadata": {
    "collapsed": false
   },
   "outputs": [
    {
     "name": "stdout",
     "output_type": "stream",
     "text": [
      "nonlinear_mxts_mode is set to: DeepLIFT_GenomicsDefault\n"
     ]
    },
    {
     "ename": "KeyError",
     "evalue": "'reshape'",
     "output_type": "error",
     "traceback": [
      "\u001b[0;31m---------------------------------------------------------------------------\u001b[0m",
      "\u001b[0;31mKeyError\u001b[0m                                  Traceback (most recent call last)",
      "\u001b[0;32m<ipython-input-3-3efa6e646a63>\u001b[0m in \u001b[0;36m<module>\u001b[0;34m()\u001b[0m\n\u001b[1;32m     12\u001b[0m     method_to_model[method_name] = kc.convert_functional_model(\n\u001b[1;32m     13\u001b[0m         \u001b[0mmodel\u001b[0m\u001b[0;34m=\u001b[0m\u001b[0mkeras_model\u001b[0m\u001b[0;34m,\u001b[0m\u001b[0;34m\u001b[0m\u001b[0m\n\u001b[0;32m---> 14\u001b[0;31m         nonlinear_mxts_mode=nonlinear_mxts_mode)\n\u001b[0m",
      "\u001b[0;32m/users/manyu/deeplift/deeplift/conversion/keras_conversion.py\u001b[0m in \u001b[0;36mconvert_functional_model\u001b[0;34m(model, nonlinear_mxts_mode, verbose, dense_mxts_mode, conv_mxts_mode, maxpool_deeplift_mode, auto_build_outputs)\u001b[0m\n\u001b[1;32m    468\u001b[0m             \u001b[0;32melse\u001b[0m\u001b[0;34m:\u001b[0m\u001b[0;34m\u001b[0m\u001b[0m\n\u001b[1;32m    469\u001b[0m                 conversion_function = layer_name_to_conversion_function(\n\u001b[0;32m--> 470\u001b[0;31m                                        type(keras_layer).__name__)\n\u001b[0m\u001b[1;32m    471\u001b[0m                 converted_deeplift_blobs = conversion_function(\n\u001b[1;32m    472\u001b[0m                                  \u001b[0mlayer\u001b[0m\u001b[0;34m=\u001b[0m\u001b[0mkeras_layer\u001b[0m\u001b[0;34m,\u001b[0m\u001b[0;34m\u001b[0m\u001b[0m\n",
      "\u001b[0;32m/users/manyu/deeplift/deeplift/conversion/keras_conversion.py\u001b[0m in \u001b[0;36mlayer_name_to_conversion_function\u001b[0;34m(layer_name)\u001b[0m\n\u001b[1;32m    270\u001b[0m     \u001b[0;31m# was a problem with previous Keras versions\u001b[0m\u001b[0;34m\u001b[0m\u001b[0;34m\u001b[0m\u001b[0m\n\u001b[1;32m    271\u001b[0m \u001b[0;31m#print (name_dict.keys())\u001b[0m\u001b[0;34m\u001b[0m\u001b[0;34m\u001b[0m\u001b[0m\n\u001b[0;32m--> 272\u001b[0;31m     \u001b[0;32mreturn\u001b[0m \u001b[0mname_dict\u001b[0m\u001b[0;34m[\u001b[0m\u001b[0mlayer_name\u001b[0m\u001b[0;34m.\u001b[0m\u001b[0mlower\u001b[0m\u001b[0;34m(\u001b[0m\u001b[0;34m)\u001b[0m\u001b[0;34m]\u001b[0m\u001b[0;34m\u001b[0m\u001b[0m\n\u001b[0m\u001b[1;32m    273\u001b[0m \u001b[0;34m\u001b[0m\u001b[0m\n\u001b[1;32m    274\u001b[0m \u001b[0;34m\u001b[0m\u001b[0m\n",
      "\u001b[0;31mKeyError\u001b[0m: 'reshape'"
     ]
    }
   ],
   "source": [
    "from deeplift.blobs import NonlinearMxtsMode\n",
    "from collections import OrderedDict\n",
    "\n",
    "method_to_model = OrderedDict()\n",
    "for method_name, nonlinear_mxts_mode in [\n",
    "    #The genomics default = rescale on conv layers, revealcance on fully-connected\n",
    "    ('rescale_conv_revealcancel_fc', NonlinearMxtsMode.DeepLIFT_GenomicsDefault),\n",
    "    ('rescale_all_layers', NonlinearMxtsMode.Rescale),\n",
    "    ('revealcancel_all_layers', NonlinearMxtsMode.RevealCancel),\n",
    "    ('grad_times_inp', NonlinearMxtsMode.Gradient),\n",
    "    ('guided_backprop', NonlinearMxtsMode.GuidedBackprop)]:\n",
    "    method_to_model[method_name] = kc.convert_functional_model(\n",
    "        model=keras_model,\n",
    "        nonlinear_mxts_mode=nonlinear_mxts_mode)"
   ]
  },
  {
   "cell_type": "code",
   "execution_count": null,
   "metadata": {
    "collapsed": true
   },
   "outputs": [],
   "source": []
  }
 ],
 "metadata": {
  "anaconda-cloud": {},
  "kernelspec": {
   "display_name": "Python [conda env:dragonn]",
   "language": "python",
   "name": "conda-env-dragonn-py"
  },
  "language_info": {
   "codemirror_mode": {
    "name": "ipython",
    "version": 2
   },
   "file_extension": ".py",
   "mimetype": "text/x-python",
   "name": "python",
   "nbconvert_exporter": "python",
   "pygments_lexer": "ipython2",
   "version": "2.7.12"
  }
 },
 "nbformat": 4,
 "nbformat_minor": 1
}
